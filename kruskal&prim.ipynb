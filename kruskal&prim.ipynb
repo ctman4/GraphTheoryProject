{
 "cells": [
  {
   "cell_type": "markdown",
   "metadata": {},
   "source": [
    "# 'timeit' Function"
   ]
  },
  {
   "cell_type": "code",
   "execution_count": 280,
   "metadata": {},
   "outputs": [],
   "source": [
    "import time\n",
    "# Function to help us get the running time\n",
    "def timeit(func):\n",
    "    \"\"\"\n",
    "    A decorator that times the function func with the arguments that\n",
    "    are passed to it\n",
    "    :param func: Function being timed\n",
    "    :return: func's result\n",
    "    \"\"\"\n",
    "    def clocked(*args, **kwargs):\n",
    "        t0 = time.perf_counter()\n",
    "        result = func(*args, **kwargs)\n",
    "        elapsed = time.perf_counter() - t0\n",
    "        name = func.__name__\n",
    "        #print('[%0.8fs] %s' % (elapsed, name))\n",
    "        return result, elapsed\n",
    "    return clocked"
   ]
  },
  {
   "cell_type": "markdown",
   "metadata": {},
   "source": [
    "# Class Graph to allow us to implement graphs "
   ]
  },
  {
   "cell_type": "code",
   "execution_count": 387,
   "metadata": {},
   "outputs": [],
   "source": [
    "from typing import TypeVar, List, Dict, Tuple\n",
    "T = TypeVar(\"T\")\n",
    "\n",
    "# This class was done in our algorithm class (CS362). We added some modifications\n",
    "class Graph:\n",
    "    \"\"\"\n",
    "    An undirected Graph with adjacency lists (dictionary)\n",
    "    \"\"\"\n",
    "\n",
    "    def __init__(self):\n",
    "        \"\"\"\n",
    "        Constructor\n",
    "        \"\"\"\n",
    "        self._vertices: Dict[T, List[T]] = { }\n",
    "        self._edges: List[Tuple[T,T,int]] = [ ]\n",
    "\n",
    "    def add_edge(self, v: T, u: T) -> None:\n",
    "        \"\"\"\n",
    "        Add an edge between v and u to the graph\n",
    "        \"\"\"\n",
    "        if v not in self._vertices:\n",
    "            self._vertices[v] = []\n",
    "        if u not in self._vertices:\n",
    "            self._vertices[u] = []\n",
    "        \n",
    "        self._vertices[v].append(u)\n",
    "        self._vertices[u].append(v)\n",
    "        \n",
    "\n",
    "    def get_edges(self, v:T):\n",
    "        \"\"\"\n",
    "        Return the list of edges for vertex v \n",
    "        \"\"\"\n",
    "        return self._vertices[v]\n",
    "    \n",
    "    def edge_list(self):\n",
    "        return self._edges\n",
    "    \n",
    "    \n",
    "    def get_vertices(self) -> List[T]:\n",
    "        \"\"\"\n",
    "        Return the list of the vertices in the graph\n",
    "        \"\"\"\n",
    "        return self._vertices.keys()\n",
    "    \n",
    "    def __str__(self):\n",
    "        \"\"\"\n",
    "        Pretty print the adjacency lists of the graph.\n",
    "        \"\"\"\n",
    "        r = \"\"\n",
    "        for u in self.get_vertices():\n",
    "            r += \"{0} --> [\".format(u)\n",
    "            for v in self.get_edges(u):\n",
    "                r+= \"{0}, \".format(v)\n",
    "            r += '{0}{0}]\\n'.format(chr(0x8))\n",
    "        return r"
   ]
  },
  {
   "cell_type": "code",
   "execution_count": 388,
   "metadata": {},
   "outputs": [],
   "source": [
    "class WeightedGraph(Graph):\n",
    "\n",
    "    def __init__(self):\n",
    "        super().__init__()\n",
    "\n",
    "    def add_edge(self, v:T, u:T, weight: int):\n",
    "        if v not in self.get_vertices():\n",
    "            self._vertices[v] = []\n",
    "        if u not in self._vertices:\n",
    "            self._vertices[u] = []\n",
    "        \n",
    "        self._edges.append((u,v,weight))\n",
    "        self._vertices[v].append((u, weight))\n",
    "        self._vertices[u].append((v, weight))"
   ]
  },
  {
   "cell_type": "markdown",
   "metadata": {},
   "source": [
    "# Building the graph"
   ]
  },
  {
   "cell_type": "code",
   "execution_count": 414,
   "metadata": {},
   "outputs": [],
   "source": [
    "g = WeightedGraph()\n",
    "g.add_edge('A', 'B', 4)\n",
    "g.add_edge('A', 'G', 1)\n",
    "g.add_edge('A', 'F', 5)\n",
    "g.add_edge('B', 'G', 8)\n",
    "g.add_edge('B', 'D', 2)\n",
    "g.add_edge('B', 'C', 5)\n",
    "g.add_edge('C', 'D', 4)\n",
    "g.add_edge('C', 'E', 1)\n",
    "g.add_edge('D', 'E', 3)\n",
    "g.add_edge('D', 'F', 7)\n",
    "g.add_edge('E', 'F', 4)\n",
    "g.add_edge('F', 'G', 3)"
   ]
  },
  {
   "cell_type": "code",
   "execution_count": 390,
   "metadata": {},
   "outputs": [],
   "source": [
    "from Heap import heap\n",
    "from typing import Tuple, Dict, TypeVar, List\n",
    "T = TypeVar(\"T\")"
   ]
  },
  {
   "cell_type": "markdown",
   "metadata": {},
   "source": [
    "# Kruskal's Algorithm"
   ]
  },
  {
   "cell_type": "code",
   "execution_count": 424,
   "metadata": {},
   "outputs": [],
   "source": [
    "# For this code we used the book \"Algorithm\" by Sanjoy Dasgupta, Christos Papadimitriou, and Umesh Vazirani\n",
    "# Pages 140-150\n",
    "@timeit\n",
    "def kruskal(g: WeightedGraph) -> List[List]:\n",
    "    \n",
    "    # This function creates 2 dictionaries to keep count of rank and also the parent(root) of each set\n",
    "    def makeset(parents: Dict, rank: Dict) -> Tuple[Dict, Dict]:\n",
    "        for vertex in g.get_vertices():\n",
    "            parents[vertex] = vertex\n",
    "            rank[vertex] = 0\n",
    "        return (parents, rank)\n",
    "    \n",
    "    # Function 'find' checks and finds if the set of that particular set(parents)\n",
    "    # We also use this function to see if two vertices are from the same set(parents) to not connect them\n",
    "    # because that would create a cycle\n",
    "    def find(parents: Dict, vert: T):       \n",
    "        if parents[vert] != vert:\n",
    "            return find(parents, parents[vert])\n",
    "        return vert\n",
    "          \n",
    "    # This function connects the two trees to each other by making the\n",
    "    def union(parents: Dict, rank: Dict, u: T, v: T):        \n",
    "        # getting the root of each tree\n",
    "        root_u = find(parents, u)\n",
    "        root_v = find(parents, v)       \n",
    "        # Compare the rank of each tree to see which one is shorter and then make the root\n",
    "        # of the shorter tree point to the root of the taller tree(Because it would result in better efficiency)\n",
    "        # If they are the same we just increase the rank and merge them\n",
    "        if rank[root_u] > rank[root_v]:\n",
    "            parents[root_v] = root_u\n",
    "        elif rank[root_u] < rank[root_v]:\n",
    "            parents[root_u] = root_v\n",
    "        else:\n",
    "            parents[root_v] = root_u\n",
    "            rank[root_u] += 1\n",
    "            \n",
    "    parents, rank = makeset({},{})\n",
    "    \n",
    "    # Sort the edges from smallest to biggest\n",
    "    edges = g.edge_list()\n",
    "    edges = sorted(edges, key = lambda x: x[2])\n",
    "    \n",
    "    # Variable result, to store the minimum spanning tree\n",
    "    result = [] \n",
    "    \n",
    "    # Counter to go through all the edges in the graph\n",
    "    i = 0\n",
    "    \n",
    "    # Variable to end the loop once we have p - 1 edges (p being the number of vertices in the original graph)\n",
    "    num_edge = 0 \n",
    "    \n",
    "    # This loop runs until there are p - 1 edges\n",
    "    while num_edge < len(g.get_vertices()) - 1:\n",
    "        \n",
    "        # Saving the vertices and the weight of the graph in these variables\n",
    "        u = edges[i][0]\n",
    "        v = edges[i][1]\n",
    "        w = edges[i][2]\n",
    "        \n",
    "        # Finding the root of each vertex(belongs to which set/tree)\n",
    "        parent_u = find(parents, u)\n",
    "        parent_v = find(parents, v)\n",
    "        \n",
    "        # If both vertices are not from the same set(tree) we connect them\n",
    "        if parent_u != parent_v:\n",
    "            num_edge = num_edge + 1\n",
    "            # Add the edge to the result\n",
    "            result.append([u, v, w])\n",
    "            # use the union function to connect the edge to the tree\n",
    "            union(parents, rank, u, v)\n",
    "            \n",
    "        i+=1\n",
    "        \n",
    "    return result"
   ]
  },
  {
   "cell_type": "markdown",
   "metadata": {},
   "source": [
    "## Print the output nicely"
   ]
  },
  {
   "cell_type": "code",
   "execution_count": 427,
   "metadata": {},
   "outputs": [
    {
     "name": "stdout",
     "output_type": "stream",
     "text": [
      "Edge 1: G A --> weight (1)\n",
      "Edge 2: E C --> weight (1)\n",
      "Edge 3: D B --> weight (2)\n",
      "Edge 4: E D --> weight (3)\n",
      "Edge 5: G F --> weight (3)\n",
      "Edge 6: B A --> weight (4)\n",
      "Total weight of MST = 14\n"
     ]
    }
   ],
   "source": [
    "krus_mst = kruskal(g)[0]\n",
    "# Varibale to save the weight of the minimum spanning tree\n",
    "mst_weight = 0\n",
    "count = 1\n",
    "for u, v, wt in krus_mst:\n",
    "    mst_weight += wt\n",
    "    print (\"Edge {0}: {1} {2} --> weight ({3})\".format(count,u,v,wt))\n",
    "    count += 1\n",
    "\n",
    "print(\"Total weight of MST = {0}\".format(mst_weight))"
   ]
  },
  {
   "cell_type": "markdown",
   "metadata": {},
   "source": [
    "# Prim's Algorithm"
   ]
  },
  {
   "cell_type": "code",
   "execution_count": 429,
   "metadata": {},
   "outputs": [],
   "source": [
    "Prev = Dict[T, Tuple[T, float]]\n",
    "\n",
    "# In prim's algoritm it is required to provide a starting vertex\n",
    "# This algorithm was done in our algorithm class (CS362)\n",
    "@timeit\n",
    "def prim(g: WeightedGraph, start: T) -> Prev:\n",
    "    prev = dict()\n",
    "    visited = dict() # keep us from creating cycles\n",
    "    h = heap()  # heap of edges\n",
    "\n",
    "    # for each vertex connected to v that is not visited\n",
    "    # add the edge to the heap.\n",
    "    def visit(v : T):\n",
    "        visited[v] = True\n",
    "        for (z, w) in g.get_edges(v):\n",
    "            if z not in visited:\n",
    "                h.insert((v, z), w)   \n",
    "\n",
    "    visit(start)\n",
    "    while len(h._h) > 0:\n",
    "        (c, (v,z)) = h.delete_root() # delete the lowest cost edge\n",
    "        if z in visited:\n",
    "            continue\n",
    "\n",
    "        visit(z)\n",
    "        prev[z] = (v, c)\n",
    "    return prev"
   ]
  },
  {
   "cell_type": "markdown",
   "metadata": {},
   "source": [
    "## Print the output nicely"
   ]
  },
  {
   "cell_type": "code",
   "execution_count": 430,
   "metadata": {},
   "outputs": [
    {
     "name": "stdout",
     "output_type": "stream",
     "text": [
      "Edge 1: G A --> weight (1)\n",
      "Edge 2: F G --> weight (3)\n",
      "Edge 3: B A --> weight (4)\n",
      "Edge 4: D B --> weight (2)\n",
      "Edge 5: E D --> weight (3)\n",
      "Edge 6: C E --> weight (1)\n",
      "Total weight of MST = 14\n"
     ]
    }
   ],
   "source": [
    "prim_mst = prim(g,\"A\")[0]\n",
    "count = 1\n",
    "weight = 0\n",
    "for key in prim_mst:\n",
    "    \n",
    "    weight += prim_mst[key][1]\n",
    "    print (\"Edge {0}: {1} {2} --> weight ({3})\".format(count, key, prim_mst[key][0], prim_mst[key][1]))\n",
    "    count += 1\n",
    "\n",
    "print(\"Total weight of MST = {0}\".format(weight))\n",
    "    "
   ]
  },
  {
   "cell_type": "markdown",
   "metadata": {},
   "source": [
    "# Running each algorithm on different graphs with different sizes"
   ]
  },
  {
   "cell_type": "code",
   "execution_count": 406,
   "metadata": {},
   "outputs": [
    {
     "name": "stdout",
     "output_type": "stream",
     "text": [
      "[6.104697240516543e-05, 0.0001639010151848197, 0.0002866240101866424, 0.0005551529466174543, 0.0006169740227051079, 0.0011076649534516037, 0.0051668050000444055, 0.003501651983242482, 0.0072330000111833215, 0.004330936004407704, 0.0022228609886951745, 0.003355750988703221, 0.0026052180328406394, 0.002806365955621004, 0.0056755709811113775, 0.004447537008672953, 0.005171719996724278, 0.005146202980540693, 0.0074591339798644185, 0.007480908010620624, 0.00911497202469036, 0.00784383900463581, 0.007850405992940068, 0.009523632004857063, 0.010954272001981735, 0.011969939048867673, 0.011229609022848308, 0.013517672952730209, 0.015043538995087147, 0.01620837301015854, 0.017645467014517635, 0.01725666201673448, 0.017850829986855388, 0.018716114980634302, 0.020987696014344692, 0.022494415985420346, 0.02337268105475232, 0.024756440019700676, 0.029216123977676034, 0.03143902600277215, 0.030765670991968364, 0.03515351202804595, 0.03408155799843371, 0.03865945996949449, 0.043663658027071506, 0.04290094104362652, 0.042967940971720964, 0.042556749016512185, 0.04869479400804266]\n"
     ]
    }
   ],
   "source": [
    "ts_krus = [] # list of times \n",
    "\n",
    "# Create 49 different graphs starting with 10 vertices up to 490 vertices(they are all complete graphs)\n",
    "for n in range(10, 500, 10):\n",
    "    g = WeightedGraph()\n",
    "    for i in range (n):\n",
    "        for j in range(i+1,n):\n",
    "            g.add_edge(i,j,random.randrange(1,n))\n",
    "    (x, t) = kruskal(g)\n",
    "    ts_krus.append(t)\n",
    "\n",
    "print(ts_krus)"
   ]
  },
  {
   "cell_type": "code",
   "execution_count": 259,
   "metadata": {},
   "outputs": [
    {
     "name": "stdout",
     "output_type": "stream",
     "text": [
      "[0.0008032370242290199, 0.012533425004221499, 0.028805381036363542, 0.023896283993963152, 0.027545464981812984, 0.051077743992209435, 0.05377599602798, 0.07582940999418497, 0.10231142200063914, 0.11082255694782361, 0.1332233879948035, 0.16178308299276978, 0.20009951398242265, 0.23622072499711066, 0.2803124660276808, 0.32463898800779134, 0.364710696041584, 0.4129139959695749, 0.47474882297683507, 0.5374792970251292, 0.604279374005273, 0.6729257749975659, 0.7385737030417658, 0.811636325030122, 0.887970446026884, 0.9692598140100017, 1.0585713670006953, 1.1601942660054192, 1.242327898973599, 1.3567204739665613, 1.4629140620236285, 1.5477427020086907, 1.678213645995129, 1.8153282579733059, 1.9185116240405478, 2.0212035109871067, 2.156616136955563, 2.265800450986717, 2.4007803929853253, 2.5498629339854233, 2.700255648989696, 2.8817214260343462, 2.991064600995742, 3.196648960991297, 3.3344675640109926, 3.536609808972571, 3.653301225975156, 3.8410270219901577, 4.13104663399281]\n"
     ]
    }
   ],
   "source": [
    "import random\n",
    "\n",
    "ts_prim = [] # list of times \n",
    "\n",
    "# Create 49 different graphs starting with 10 vertices up to 490 vertices(they are all complete graphs)\n",
    "for n in range(10, 500, 10):\n",
    "    g = WeightedGraph()\n",
    "    for i in range (n):\n",
    "        for j in range(i+1,n):\n",
    "            g.add_edge(i,j,random.randrange(1,n))\n",
    "    (x, t) = prim(g,0)\n",
    "    ts_prim.append(t)\n",
    "print(ts_prim)"
   ]
  },
  {
   "cell_type": "markdown",
   "metadata": {},
   "source": [
    "# Kruskal's Algorithm Running Time"
   ]
  },
  {
   "cell_type": "code",
   "execution_count": 411,
   "metadata": {},
   "outputs": [
    {
     "data": {
      "text/plain": [
       "<matplotlib.legend.Legend at 0x7ff265efdeb0>"
      ]
     },
     "execution_count": 411,
     "metadata": {},
     "output_type": "execute_result"
    },
    {
     "data": {
      "image/png": "[encoded data removed]",
      "text/plain": [
       "<Figure size 288x288 with 1 Axes>"
      ]
     },
     "metadata": {
      "needs_background": "light"
     },
     "output_type": "display_data"
    }
   ],
   "source": [
    "import numpy as np\n",
    "import math\n",
    "import matplotlib.pyplot as plt\n",
    "fig = plt.figure(\"Class Demo\", figsize=(4,4))\n",
    "# We devide it by 2500 because of the constants.(it's to better scale it to the points we got through running the program)\n",
    "g = [(math.log(x,2)*(x*(x-1)/2))/130000 for x in range(1,50) ]\n",
    "\n",
    "ax = fig.add_subplot(111)\n",
    "ax.plot(ts_krus, label=\"kruskal\")\n",
    "ax.plot(g, label=r\"$|E|(log |V|)$\")\n",
    "ax.legend()"
   ]
  },
  {
   "cell_type": "markdown",
   "metadata": {},
   "source": [
    "# Prim's Algorithm Running Time"
   ]
  },
  {
   "cell_type": "code",
   "execution_count": 361,
   "metadata": {},
   "outputs": [
    {
     "data": {
      "text/plain": [
       "<matplotlib.legend.Legend at 0x7ff264ec1fa0>"
      ]
     },
     "execution_count": 361,
     "metadata": {},
     "output_type": "execute_result"
    },
    {
     "data": {
      "image/png": "[encoded data removed]",
      "text/plain": [
       "<Figure size 288x288 with 1 Axes>"
      ]
     },
     "metadata": {
      "needs_background": "light"
     },
     "output_type": "display_data"
    }
   ],
   "source": [
    "import numpy as np\n",
    "import math\n",
    "import matplotlib.pyplot as plt\n",
    "\n",
    "fig = plt.figure(\"Class Demo\", figsize=(4,4))\n",
    "# We devide it by 2500 because of the constants.(it's to better scale it to the points we got through running the program)\n",
    "g = [(math.log(x,2)*(x*(x-1)/2))/1600 for x in range(1,50) ]\n",
    "ax = fig.add_subplot(111)\n",
    "ax.plot(g, label=r\"$|E|(log |V|)$\")\n",
    "ax.plot(ts_prim, label=\"Prim\")\n",
    "ax.legend()"
   ]
  },
  {
   "cell_type": "code",
   "execution_count": null,
   "metadata": {},
   "outputs": [],
   "source": []
  }
 ],
 "metadata": {
  "kernelspec": {
   "display_name": "Python 3",
   "language": "python",
   "name": "python3"
  },
  "language_info": {
   "codemirror_mode": {
    "name": "ipython",
    "version": 3
   },
   "file_extension": ".py",
   "mimetype": "text/x-python",
   "name": "python",
   "nbconvert_exporter": "python",
   "pygments_lexer": "ipython3",
   "version": "3.8.3"
  }
 },
 "nbformat": 4,
 "nbformat_minor": 4
}
