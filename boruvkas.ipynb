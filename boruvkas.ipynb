{
 "cells": [
  {
   "cell_type": "markdown",
   "metadata": {},
   "source": [
    "# 'timeit' Function"
   ]
  },
  {
   "cell_type": "code",
   "execution_count": 48,
   "metadata": {},
   "outputs": [],
   "source": [
    "import time\n",
    "# Function to help us get the running time\n",
    "def timeit(func):\n",
    "    \"\"\"\n",
    "    A decorator that times the function func with the arguments that\n",
    "    are passed to it\n",
    "    :param func: Function being timed\n",
    "    :return: func's result\n",
    "    \"\"\"\n",
    "    def clocked(*args, **kwargs):\n",
    "        t0 = time.perf_counter()\n",
    "        result = func(*args, **kwargs)\n",
    "        elapsed = time.perf_counter() - t0\n",
    "        name = func.__name__\n",
    "        #print('[%0.8fs] %s' % (elapsed, name))\n",
    "        return result, elapsed\n",
    "    return clocked"
   ]
  },
  {
   "cell_type": "markdown",
   "metadata": {},
   "source": [
    "# Class Graph to allow us to implement graphs "
   ]
  },
  {
   "cell_type": "code",
   "execution_count": 59,
   "metadata": {},
   "outputs": [],
   "source": [
    "from typing import TypeVar, List, Dict, Tuple\n",
    "from math import inf\n",
    "T = TypeVar(\"T\")\n",
    "\n",
    "# This class was done in our algorithm class (CS362). We added some modifications\n",
    "class Graph:\n",
    "    \"\"\"\n",
    "    An undirected Graph with adjacency lists (dictionary)\n",
    "    \"\"\"\n",
    "\n",
    "    def __init__(self):\n",
    "        \"\"\"\n",
    "        Constructor\n",
    "        \"\"\"\n",
    "        self._vertices: Dict[T, List[T]] = { }\n",
    "        self._edges: List[Tuple[T,T,int]] = [ ]\n",
    "            \n",
    "\n",
    "    def add_edge(self, v: T, u: T) -> None:\n",
    "        \"\"\"\n",
    "        Add an edge between v and u to the graph\n",
    "        \"\"\"\n",
    "        if v not in self._vertices:\n",
    "            self._vertices[v] = []\n",
    "        if u not in self._vertices:\n",
    "            self._vertices[u] = []\n",
    "\n",
    "        self._vertices[v].append(u)\n",
    "        self._vertices[u].append(v)\n",
    "\n",
    "    def get_edges(self, v:T):\n",
    "        \"\"\"\n",
    "        Return the list of edges for vertex v \n",
    "        \"\"\"\n",
    "        return self._vertices[v]\n",
    "    \n",
    "    def get_vertices(self) -> List[T]:\n",
    "        \"\"\"\n",
    "        Return the list of the vertices in the graph\n",
    "        \"\"\"\n",
    "        return self._vertices.keys()\n",
    "    \n",
    "    def edge_list(self) -> List[Tuple[T,T,int]]:\n",
    "        \"\"\"\n",
    "        Return the list of edges in the graph as a list of tuples. \n",
    "        \"\"\"\n",
    "        return self._edges\n",
    "    \n",
    "    def __str__(self):\n",
    "        \"\"\"\n",
    "        Pretty print the adjacency lists of the graph.\n",
    "        \"\"\"\n",
    "        r = \"\"\n",
    "        for u in self.get_vertices():\n",
    "            r += \"{0} --> [\".format(u)\n",
    "            for v in self.get_edges(u):\n",
    "                r+= \"{0}, \".format(v)\n",
    "            r += '{0}{0}]\\n'.format(chr(0x8))\n",
    "        return r"
   ]
  },
  {
   "cell_type": "code",
   "execution_count": 60,
   "metadata": {},
   "outputs": [],
   "source": [
    "class WeightedGraph(Graph):\n",
    "\n",
    "    def __init__(self):\n",
    "        super().__init__()\n",
    "\n",
    "    def add_edge(self, v:T, u:T, weight: int):\n",
    "        if v not in self.get_vertices():\n",
    "            self._vertices[v] = []\n",
    "        if u not in self._vertices:\n",
    "            self._vertices[u] = []\n",
    "        \n",
    "        self._edges.append((u,v,weight))\n",
    "        self._vertices[v].append((u, weight))\n",
    "        self._vertices[u].append((v, weight))\n",
    "    "
   ]
  },
  {
   "cell_type": "markdown",
   "metadata": {},
   "source": [
    "# Boruvka's Algorithm"
   ]
  },
  {
   "cell_type": "code",
   "execution_count": 64,
   "metadata": {},
   "outputs": [
    {
     "name": "stdout",
     "output_type": "stream",
     "text": [
      "12\n"
     ]
    }
   ],
   "source": [
    "# Used the same ideas from p.135 of Algorithms by Dasgupta et al.\n",
    "def find(comp_parents: Dict, v):\n",
    "    if comp_parents[v] == v:\n",
    "        return v\n",
    "    #Go up the component union tree until find parent of component\n",
    "    return find(comp_parents, comp_parents[v])\n",
    "\n",
    "#Use union by rank to combine components\n",
    "def combine(comp_parents, comp_ranks, c1, c2):\n",
    "    par1 = find(comp_parents, c1)\n",
    "    par2 = find(comp_parents, c2)\n",
    "    \n",
    "    if comp_ranks[par1] == comp_ranks[par2]:\n",
    "        comp_parents[par2] = par1\n",
    "        comp_ranks[par1] += 1\n",
    "    else:\n",
    "        if comp_ranks[par1] < comp_ranks[par2]:\n",
    "            comp_parents[par1] = par2\n",
    "\n",
    "        else:\n",
    "            comp_parents[par2] = par1 \n",
    "@timeit   \n",
    "def boruvka(g: Graph) -> Graph: #|E|Log(|V|)\n",
    "    comp_parents = {} #dict for parent of each component\n",
    "    comp_ranks = {} #rank of each component for component union by rank\n",
    "    smallest_edge = {} #dictionary to store the smallest edge of each component\n",
    "    c_num = len(g.get_vertices()) #number of components \n",
    "    tot_weight = 0 # the total weight of the MST\n",
    "    edges = g.edge_list()\n",
    "    vertices = g.get_vertices()\n",
    "    \n",
    "    #create component for each vertex\n",
    "    for v in vertices:\n",
    "        comp_parents[v] = v\n",
    "        comp_ranks[v] = v\n",
    "        smallest_edge[v] = None \n",
    "        \n",
    "    #combine components until we have one component\n",
    "    while c_num != 1:\n",
    "        \n",
    "        \n",
    "        #go through the edges\n",
    "        for e in edges:\n",
    "\n",
    "            u,v,w = e\n",
    "            \n",
    "            #get component of u and component of v (gets the root node of union tree)\n",
    "            c1 = find(comp_parents, u)\n",
    "            c2 = find(comp_parents, v)\n",
    "           \n",
    "             \n",
    "            #if the vertices are not in the same component\n",
    "            if c1 != c2 : \n",
    "                \n",
    "                #get the smallest edge of each component\n",
    "                if smallest_edge[c1] == None or w < smallest_edge[c1][2]:\n",
    "                    smallest_edge[c1] = [u,v,w]\n",
    "                if smallest_edge[c2] == None or w < smallest_edge[c2][2]:\n",
    "                    smallest_edge[c2] = [u,v,w]\n",
    "                    \n",
    "                    \n",
    "        \n",
    "        #add the new smallest edges of components to the MST\n",
    "        for vert in vertices:\n",
    "            \n",
    "            #if the vertex has the smallest edge, get the edge from the vertex\n",
    "            if smallest_edge[vert] != None:\n",
    "                u,v,w = smallest_edge[vert]\n",
    "                \n",
    "                #get the components of u and v\n",
    "                c1 = find(comp_parents, u)\n",
    "                c2 = find(comp_parents, v)\n",
    "                \n",
    "                #if the components arent already connected, connect them \n",
    "                if c1 != c2:\n",
    "                    combine(comp_parents, comp_ranks, c1, c2)\n",
    "                    tot_weight += w\n",
    "                    c_num -= 1\n",
    "                    \n",
    "        #reset the min edges\n",
    "        for v in vertices:\n",
    "            smallest_edge[v] = None \n",
    "    \n",
    "    return(tot_weight)\n",
    "\n",
    "g = WeightedGraph()\n",
    "g.add_edge('a', 'b', 6)\n",
    "g.add_edge('a', 'c', 2)\n",
    "g.add_edge('a', 'd', 4)\n",
    "g.add_edge('b', 'd', 7)\n",
    "g.add_edge('c', 'd', 1)\n",
    "g.add_edge('e', 'a', 11)\n",
    "g.add_edge('e', 'b', 3)\n",
    "\n",
    "print(boruvka(g)[0])\n"
   ]
  },
  {
   "cell_type": "code",
   "execution_count": 62,
   "metadata": {},
   "outputs": [
    {
     "name": "stdout",
     "output_type": "stream",
     "text": [
      "[('b', 'a', 6), ('c', 'a', 2), ('d', 'a', 4), ('d', 'b', 7), ('d', 'c', 1), ('a', 'e', 11), ('b', 'e', 3)]\n"
     ]
    }
   ],
   "source": [
    "g = WeightedGraph()\n",
    "g.add_edge('a', 'b', 6)\n",
    "g.add_edge('a', 'c', 2)\n",
    "g.add_edge('a', 'd', 4)\n",
    "g.add_edge('b', 'd', 7)\n",
    "g.add_edge('c', 'd', 1)\n",
    "g.add_edge('e', 'a', 11)\n",
    "g.add_edge('e', 'b', 3)\n",
    "\n",
    "print(g.edge_list())"
   ]
  },
  {
   "cell_type": "markdown",
   "metadata": {},
   "source": [
    "# Running the algorithm on different graphs with different sizes"
   ]
  },
  {
   "cell_type": "code",
   "execution_count": 67,
   "metadata": {},
   "outputs": [
    {
     "name": "stdout",
     "output_type": "stream",
     "text": [
      "[0.00013336400297703221, 0.0005075579974800348, 0.0017610040013096295, 0.007467589995940216, 0.015118251001695171, 0.017585433000931516, 0.009123821000684984, 0.04860537999775261, 0.028113124004448764, 0.035904477001167834, 0.029296891996636987, 0.044636963997618295, 0.05637726900022244, 0.05106894500204362, 0.04589113000110956, 0.10037790299975313, 0.12892973300040467, 0.07036400200013304, 0.09771010400436353, 0.2576635000004899, 0.11430561599991051, 0.2551077320022159, 0.2746793539990904, 0.14038738700037356, 0.17400926299887942, 0.21602620300109265, 0.19991161600046325, 0.2097567960008746, 0.27034690599975875, 0.25519593599892687, 1.083955412999785, 0.29484038700320525, 0.5223629200045252, 0.5753151450044243, 0.4507335160014918, 0.47514081299596, 0.7603729229958844, 0.882812678006303, 1.1763498420041287, 1.1362550230041961, 0.9167303150024964, 2.7150210429972503, 0.8966199439964839, 0.9741878909990191, 1.0477083079967997, 1.5407343760016374, 1.4918065000019851, 1.160891184998036, 1.8662089650024427]\n"
     ]
    }
   ],
   "source": [
    "import random\n",
    "\n",
    "ts_boruvka = [] # list of times \n",
    "# Create 49 different graphs starting with 10 vertices up to 490 vertices(they are all complete graphs)\n",
    "for n in range(10, 500, 10):\n",
    "    g = WeightedGraph()\n",
    "    for i in range (n):\n",
    "        for j in range(i+1,n):\n",
    "            g.add_edge(i,j,random.randrange(1,21))\n",
    "    (x, t) = boruvka(g)\n",
    "    ts_boruvka.append(t)\n",
    "print(ts_boruvka)"
   ]
  },
  {
   "cell_type": "markdown",
   "metadata": {},
   "source": [
    "# Boruvka's Algorithm Running Time"
   ]
  },
  {
   "cell_type": "code",
   "execution_count": 70,
   "metadata": {},
   "outputs": [
    {
     "data": {
      "text/plain": [
       "<matplotlib.legend.Legend at 0x7ff290ed4190>"
      ]
     },
     "execution_count": 70,
     "metadata": {},
     "output_type": "execute_result"
    },
    {
     "data": {
      "image/png": "[encoded data removed]",
      "text/plain": [
       "<Figure size 288x288 with 1 Axes>"
      ]
     },
     "metadata": {
      "needs_background": "light"
     },
     "output_type": "display_data"
    }
   ],
   "source": [
    "import numpy as np\n",
    "import math\n",
    "import matplotlib.pyplot as plt\n",
    "fig = plt.figure(\"Class Demo\", figsize=(4,4))\n",
    "# We devide it by 2500 because of the constants.(it's to better scale it to the points we got through running the program)\n",
    "g = [(math.log(x,2)*(x*(x-1)/2))/5500 for x in range(1,50) ]\n",
    "ax = fig.add_subplot(111)\n",
    "ax.plot(g, label=r\"$|E|(log |V|)$\")\n",
    "ax.plot(ts_boruvka, label=\"Boruvka\")\n",
    "ax.legend()"
   ]
  },
  {
   "cell_type": "code",
   "execution_count": null,
   "metadata": {},
   "outputs": [],
   "source": []
  },
  {
   "cell_type": "code",
   "execution_count": 10,
   "metadata": {},
   "outputs": [],
   "source": []
  }
 ],
 "metadata": {
  "kernelspec": {
   "display_name": "Python 3",
   "language": "python",
   "name": "python3"
  },
  "language_info": {
   "codemirror_mode": {
    "name": "ipython",
    "version": 3
   },
   "file_extension": ".py",
   "mimetype": "text/x-python",
   "name": "python",
   "nbconvert_exporter": "python",
   "pygments_lexer": "ipython3",
   "version": "3.8.3"
  }
 },
 "nbformat": 4,
 "nbformat_minor": 4
}
